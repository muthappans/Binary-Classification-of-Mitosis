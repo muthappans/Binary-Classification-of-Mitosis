{
  "cells": [
    {
      "cell_type": "code",
      "execution_count": null,
      "metadata": {
        "id": "9wft0fYsLiU2"
      },
      "outputs": [],
      "source": [
        "import pandas as pd\n",
        "import numpy as np\n",
        "import os\n",
        "import tensorflow as tf\n",
        "from sklearn.model_selection import train_test_split\n"
      ]
    },
    {
      "cell_type": "code",
      "execution_count": null,
      "metadata": {
        "colab": {
          "base_uri": "https://localhost:8080/"
        },
        "id": "ucjreE1vLkVH",
        "outputId": "4ae89ec8-7564-4fd2-b7fa-871600be40c1"
      },
      "outputs": [],
      "source": [
        "import pandas as pd\n",
        "\n",
        "csv_path = \"/content/drive/My Drive/MIDOG25_Atypical_Classification_Train_Set.csv\"\n",
        "df = pd.read_csv(csv_path)\n",
        "\n",
        "print(df.columns)  # Inspect column names\n"
      ]
    },
    {
      "cell_type": "code",
      "execution_count": null,
      "metadata": {
        "id": "cS1pVxJXL1Vt"
      },
      "outputs": [],
      "source": [
        "image_dir = \"/content/drive/My Drive/MIDOG25_Binary_Classification_Train_Set/\"\n",
        "df['filename'] = df['filename'].apply(lambda x: x.replace(\".tiff\", \".png\"))\n",
        "df['filepath'] = image_dir + df['filename']\n"
      ]
    },
    {
      "cell_type": "code",
      "execution_count": null,
      "metadata": {
        "id": "-p_n3DLDL3_n"
      },
      "outputs": [],
      "source": [
        "label_map = {'NMF': 0, 'AMF': 1}\n",
        "df['label'] = df['majority'].map(label_map)\n",
        "\n",
        "# Drop rows where image is missing (important!)\n",
        "import os\n",
        "df = df[df['filepath'].apply(os.path.exists)]\n"
      ]
    },
    {
      "cell_type": "code",
      "execution_count": null,
      "metadata": {
        "id": "1KS-2p6NL5dy"
      },
      "outputs": [],
      "source": [
        "from sklearn.model_selection import train_test_split\n",
        "\n",
        "train_paths, val_paths, train_labels, val_labels = train_test_split(\n",
        "    df['filepath'].values,\n",
        "    df['label'].values,\n",
        "    test_size=0.2,\n",
        "    stratify=df['label'].values,\n",
        "    random_state=42\n",
        ")\n"
      ]
    },
    {
      "cell_type": "code",
      "execution_count": null,
      "metadata": {
        "id": "XWXvjlVJL7Ra"
      },
      "outputs": [],
      "source": [
        "import tensorflow as tf\n",
        "\n",
        "BATCH_SIZE = 32\n",
        "IMG_SIZE = (224, 224)\n",
        "\n",
        "def process_image(file_path, label):\n",
        "    img = tf.io.read_file(file_path)\n",
        "    img = tf.image.decode_png(img, channels=3)\n",
        "    img = tf.image.resize(img, IMG_SIZE)\n",
        "    img = img / 255.0\n",
        "    return img, label\n",
        "\n",
        "train_ds = tf.data.Dataset.from_tensor_slices((train_paths, train_labels))\n",
        "val_ds = tf.data.Dataset.from_tensor_slices((val_paths, val_labels))\n",
        "\n",
        "train_ds = (train_ds\n",
        "    .shuffle(1000)\n",
        "    .map(process_image, num_parallel_calls=tf.data.AUTOTUNE)\n",
        "    .batch(BATCH_SIZE)\n",
        "    .prefetch(tf.data.AUTOTUNE)\n",
        ")\n",
        "\n",
        "val_ds = (val_ds\n",
        "    .map(process_image, num_parallel_calls=tf.data.AUTOTUNE)\n",
        "    .batch(BATCH_SIZE)\n",
        "    .prefetch(tf.data.AUTOTUNE)\n",
        ")\n"
      ]
    },
    {
      "cell_type": "code",
      "execution_count": null,
      "metadata": {
        "colab": {
          "base_uri": "https://localhost:8080/",
          "height": 829
        },
        "id": "sis0GYKKL84E",
        "outputId": "7d876a50-4c31-4936-cc41-027f657991cd"
      },
      "outputs": [],
      "source": [
        "import matplotlib.pyplot as plt\n",
        "\n",
        "class_names = ['NMF', 'AMF']\n",
        "\n",
        "for images, labels in train_ds.take(1):\n",
        "    plt.figure(figsize=(10, 10))\n",
        "    for i in range(9):\n",
        "        ax = plt.subplot(3, 3, i + 1)\n",
        "        plt.imshow(images[i].numpy())\n",
        "        plt.title(class_names[labels[i].numpy()])\n",
        "        plt.axis(\"off\")\n"
      ]
    },
    {
      "cell_type": "markdown",
      "metadata": {
        "id": "jFdTweWbNfIv"
      },
      "source": [
        "CNN\n"
      ]
    },
    {
      "cell_type": "code",
      "execution_count": null,
      "metadata": {
        "colab": {
          "base_uri": "https://localhost:8080/"
        },
        "id": "XdgieCVwL-_h",
        "outputId": "b2e4775d-d1be-4f4a-d505-7084cfe8a4af"
      },
      "outputs": [],
      "source": [
        "model.fit(train_ds, validation_data=val_ds, epochs=5)\n"
      ]
    },
    {
      "cell_type": "code",
      "execution_count": null,
      "metadata": {
        "colab": {
          "base_uri": "https://localhost:8080/"
        },
        "id": "xXzcwf5tMEtw",
        "outputId": "8f1e101e-82fa-4a07-adab-05de8bf71b49"
      },
      "outputs": [],
      "source": [
        "from collections import Counter\n",
        "\n",
        "label_counter = Counter()\n",
        "\n",
        "for _, labels in train_ds.unbatch():\n",
        "    label_counter[int(labels.numpy())] += 1\n",
        "\n",
        "print(\"Label distribution in train_ds:\", label_counter)\n"
      ]
    },
    {
      "cell_type": "markdown",
      "metadata": {
        "id": "OHU6MYYkNr60"
      },
      "source": [
        "\n",
        "Compute Class Weights"
      ]
    },
    {
      "cell_type": "code",
      "execution_count": null,
      "metadata": {
        "id": "nzo1HBV2MkFp"
      },
      "outputs": [],
      "source": [
        "# Step 1a: Encode 'majority' column to numeric labels\n",
        "label_map = {'NMF': 0, 'AMF': 1}\n",
        "df['label'] = df['majority'].map(label_map)\n",
        "\n",
        "# Step 1b: Build full path for each image\n",
        "image_dir = '/content/drive/My Drive/MIDOG25_Binary_Classification_Train_Set'\n",
        "df['filepath'] = df['filename'].apply(lambda x: os.path.join(image_dir, x.replace('.tiff', '.png')))\n",
        "\n",
        "# Step 1c: Create dictionary {filepath: label}\n",
        "path_to_label = dict(zip(df['filepath'], df['label']))\n"
      ]
    },
    {
      "cell_type": "code",
      "execution_count": null,
      "metadata": {
        "colab": {
          "base_uri": "https://localhost:8080/"
        },
        "id": "uQRErFUENvix",
        "outputId": "5497ff2c-0dc3-4ccb-d14d-15cf02366bce"
      },
      "outputs": [],
      "source": [
        "from sklearn.utils.class_weight import compute_class_weight\n",
        "import numpy as np\n",
        "\n",
        "class_weights = compute_class_weight(\n",
        "    class_weight='balanced',\n",
        "    classes=np.array([0, 1]),\n",
        "    y=train_labels\n",
        ")\n",
        "\n",
        "class_weight_dict = dict(enumerate(class_weights))\n",
        "print(\"Class weights:\", class_weight_dict)\n"
      ]
    },
    {
      "cell_type": "markdown",
      "metadata": {
        "id": "5TCMP5USOaB4"
      },
      "source": [
        "Common Setup (for both models)\n",
        "\n"
      ]
    },
    {
      "cell_type": "code",
      "execution_count": null,
      "metadata": {
        "id": "tC9HExRjOc7r"
      },
      "outputs": [],
      "source": [
        "import tensorflow as tf\n",
        "from tensorflow.keras import layers, models\n",
        "from tensorflow.keras.applications import MobileNetV2, ResNet50\n",
        "\n",
        "IMG_SIZE = (224, 224)\n",
        "INPUT_SHAPE = IMG_SIZE + (3,)\n",
        "\n",
        "# This stays the same for both models\n",
        "base_input = tf.keras.Input(shape=INPUT_SHAPE)"
      ]
    },
    {
      "cell_type": "markdown",
      "metadata": {
        "id": "vbYYDOJSOfqa"
      },
      "source": [
        "MobileNetV2 Model\n",
        "\n"
      ]
    },
    {
      "cell_type": "code",
      "execution_count": null,
      "metadata": {
        "colab": {
          "base_uri": "https://localhost:8080/",
          "height": 306
        },
        "id": "iceUktAuOiSP",
        "outputId": "c9e933bd-3d19-40fb-bfa8-6b65a2dd890b"
      },
      "outputs": [],
      "source": [
        "mobilenet_base = MobileNetV2(input_shape=INPUT_SHAPE, include_top=False, weights='imagenet')\n",
        "mobilenet_base.trainable = False  # Freeze base\n",
        "\n",
        "mobilenet_model = models.Sequential([\n",
        "    mobilenet_base,\n",
        "    layers.GlobalAveragePooling2D(),\n",
        "    layers.Dropout(0.3),\n",
        "    layers.Dense(1, activation='sigmoid')  # Binary classification\n",
        "])\n",
        "\n",
        "mobilenet_model.compile(optimizer='adam', loss='binary_crossentropy', metrics=['accuracy'])\n",
        "mobilenet_model.summary()\n"
      ]
    },
    {
      "cell_type": "code",
      "execution_count": null,
      "metadata": {
        "colab": {
          "base_uri": "https://localhost:8080/"
        },
        "id": "hici4eiJOkET",
        "outputId": "f6757f43-9b5a-42cd-bcbc-ff9bd84a4b66"
      },
      "outputs": [],
      "source": [
        "mobilenet_model.fit(\n",
        "    train_ds,\n",
        "    validation_data=val_ds,\n",
        "    epochs=5,\n",
        "    class_weight=class_weight_dict\n",
        ")\n"
      ]
    },
    {
      "cell_type": "markdown",
      "metadata": {
        "id": "2ygseEODO1PN"
      },
      "source": [
        "ResNet"
      ]
    },
    {
      "cell_type": "code",
      "execution_count": null,
      "metadata": {
        "colab": {
          "base_uri": "https://localhost:8080/",
          "height": 324
        },
        "id": "tpGd33IUO2ev",
        "outputId": "228fa8ec-169f-4454-cc8c-3cd14db3f72d"
      },
      "outputs": [],
      "source": [
        "resnet_base = ResNet50(input_shape=INPUT_SHAPE, include_top=False, weights='imagenet')\n",
        "resnet_base.trainable = False  # Freeze base\n",
        "\n",
        "resnet_model = models.Sequential([\n",
        "    resnet_base,\n",
        "    layers.GlobalAveragePooling2D(),\n",
        "    layers.Dropout(0.3),\n",
        "    layers.Dense(1, activation='sigmoid')\n",
        "])\n",
        "\n",
        "resnet_model.compile(optimizer='adam', loss='binary_crossentropy', metrics=['accuracy'])\n",
        "resnet_model.summary()\n"
      ]
    },
    {
      "cell_type": "code",
      "execution_count": null,
      "metadata": {
        "colab": {
          "base_uri": "https://localhost:8080/"
        },
        "id": "XWQgNBPkPIVq",
        "outputId": "c0d09b0e-3ff2-4916-9419-f244e81fdf57"
      },
      "outputs": [],
      "source": [
        "resnet_model.fit(\n",
        "    train_ds,\n",
        "    validation_data=val_ds,\n",
        "    epochs=5,\n",
        "    class_weight=class_weight_dict\n",
        ")\n"
      ]
    },
    {
      "cell_type": "code",
      "execution_count": null,
      "metadata": {
        "colab": {
          "base_uri": "https://localhost:8080/"
        },
        "id": "Y9iapyA_QtWg",
        "outputId": "32f98ab0-ad72-4e48-c154-8725368d934b"
      },
      "outputs": [],
      "source": [
        "from collections import Counter\n",
        "y_val = []\n",
        "for _, labels in val_ds.unbatch():\n",
        "    y_val.append(int(labels.numpy()))\n",
        "print(Counter(y_val))\n"
      ]
    },
    {
      "cell_type": "code",
      "execution_count": null,
      "metadata": {
        "id": "fzunvli6Qv-z"
      },
      "outputs": [],
      "source": [
        "df['label'] = df['majority'].map({'NMF': 0, 'AMF': 1})  # or reverse if needed\n"
      ]
    },
    {
      "cell_type": "code",
      "execution_count": null,
      "metadata": {
        "id": "PGS5OpQcQ0Wy"
      },
      "outputs": [],
      "source": [
        "def preprocess_image(file_path, label):\n",
        "    image = tf.io.read_file(file_path)\n",
        "    image = tf.image.decode_png(image, channels=3)\n",
        "    image = tf.image.resize(image, [224, 224])\n",
        "    image = tf.keras.applications.resnet50.preprocess_input(image)\n",
        "    return image, label\n"
      ]
    },
    {
      "cell_type": "code",
      "execution_count": null,
      "metadata": {
        "id": "YQwj5r-DQ3Pq"
      },
      "outputs": [],
      "source": [
        "base_model.trainable = False  # freeze base\n"
      ]
    },
    {
      "cell_type": "code",
      "execution_count": null,
      "metadata": {
        "colab": {
          "base_uri": "https://localhost:8080/"
        },
        "id": "MPlF2M7VQ7dM",
        "outputId": "3f16656f-57f2-45cd-feb2-43cb8244dce0"
      },
      "outputs": [],
      "source": [
        "resnet_model.fit(train_ds, validation_data=val_ds, epochs=5)\n"
      ]
    }
  ],
  "metadata": {
    "accelerator": "GPU",
    "colab": {
      "gpuType": "T4",
      "provenance": []
    },
    "kernelspec": {
      "display_name": "Python 3",
      "name": "python3"
    },
    "language_info": {
      "name": "python"
    }
  },
  "nbformat": 4,
  "nbformat_minor": 0
}
